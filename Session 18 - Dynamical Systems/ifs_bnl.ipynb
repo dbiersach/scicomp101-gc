{
 "cells": [
  {
   "cell_type": "markdown",
   "metadata": {
    "id": "w5k2OB0dCwV_"
   },
   "source": [
    "**Import needed packages/modules**"
   ]
  },
  {
   "cell_type": "code",
   "execution_count": null,
   "metadata": {
    "id": "fnT5r8FXCszF"
   },
   "outputs": [],
   "source": [
    "# Cell 1\n",
    "from dataclasses import dataclass\n",
    "\n",
    "import matplotlib.pyplot as plt\n",
    "import numpy as np"
   ]
  },
  {
   "cell_type": "markdown",
   "metadata": {
    "id": "luIC4sURDTeO"
   },
   "source": [
    "**Define a `dataclass` to store a transformation mapping**\\\n",
    "Each transform requires <u>three</u> (2D) Cartesian point \"mappings\":\n",
    "* The $1^{st}$ mapping relocates the $(bottom_{\\ left})$ corner of the base frame\n",
    "* The $2^{nd}$ mapping relocates the $(bottom_{\\ right})$ corner of the base frame\n",
    "* The $3^{rd}$ mapping relocates the $(top_{\\ left})$ corner of the base frame"
   ]
  },
  {
   "cell_type": "code",
   "execution_count": null,
   "metadata": {
    "id": "zeWMD1rhyueN"
   },
   "outputs": [],
   "source": [
    "# Cell 2\n",
    "@dataclass\n",
    "class Transform:\n",
    "    def __init__(self):\n",
    "        self.x1 = 0.0\n",
    "        self.y1 = 0.0\n",
    "        self.x2 = 0.0\n",
    "        self.y2 = 0.0\n",
    "        self.x3 = 0.0\n",
    "        self.y3 = 0.0\n",
    "        self.color = (0, 0, 0)  # Black in RGB\n",
    "        self.probability = 0.0\n",
    "        self.m = np.zeros((3, 3))"
   ]
  },
  {
   "cell_type": "markdown",
   "metadata": {
    "id": "GP6_K1RXEtyO"
   },
   "source": [
    "**Define a `dataclass` to hold a complete Iterated Function System**\\\n",
    "Each IFS contains:\n",
    "1. The 2D Cartesian coordinates of the **base frame** for this IFS\n",
    "2. A set of transforms\n",
    "3. The  **probability** of each transform being applied in a given iteration\n",
    "4. The  **pixel color** of each transform\n",
    "5. A function that given an initial coordinate, will move it to a new coordinate based upon one of its randomly selected transforms"
   ]
  },
  {
   "cell_type": "code",
   "execution_count": null,
   "metadata": {
    "id": "wJqUbXQqyyz-"
   },
   "outputs": [],
   "source": [
    "# Cell 3\n",
    "@dataclass\n",
    "class IteratedFunctionSystem:\n",
    "    def __init__(self):\n",
    "        self.transforms = []\n",
    "        self.affine_width = 0.0\n",
    "        self.affine_height = 0.0\n",
    "        self.cdf = 0.0\n",
    "\n",
    "    def set_base_frame(self, x_min, y_min, x_max, y_max):\n",
    "        self.affine_width = x_max - x_min\n",
    "        self.affine_height = y_max - y_min\n",
    "\n",
    "    # fmt: off\n",
    "    def add_mapping(self, x_left, y_left, x_right, y_right,\n",
    "                     x_top, y_top, color, probability):\n",
    "    #fmt: on\n",
    "        # Probabilities accumulate across mappings\n",
    "        self.cdf += probability\n",
    "\n",
    "        t = Transform()\n",
    "        t.x1 = x_left\n",
    "        t.y1 = y_left\n",
    "        t.x2 = x_right\n",
    "        t.y2 = y_right\n",
    "        t.x3 = x_top\n",
    "        t.y3 = y_top\n",
    "        t.color = color\n",
    "        t.probability = self.cdf\n",
    "        self.transforms.append(t)\n",
    "\n",
    "    def generate_transforms(self):\n",
    "        for t in self.transforms:\n",
    "            coeffs = np.array([\n",
    "                [0, 0, 1],\n",
    "                [self.affine_width, 0, 1],\n",
    "                [0, self.affine_height, 1],\n",
    "            ])\n",
    "\n",
    "            # Solve systems of 3x3 equations to get transformation matrix\n",
    "            vals = np.array([t.x1, t.x2, t.x3])\n",
    "            sol = np.linalg.solve(coeffs, vals)\n",
    "            t.m[0, 0] = sol[0]\n",
    "            t.m[1, 0] = sol[1]\n",
    "            t.m[2, 0] = sol[2]\n",
    "\n",
    "            vals = np.array([t.y1, t.y2, t.y3])\n",
    "            sol = np.linalg.solve(coeffs, vals)\n",
    "            t.m[0, 1] = sol[0]\n",
    "            t.m[1, 1] = sol[1]\n",
    "            t.m[2, 1] = sol[2]\n",
    "\n",
    "            # Last column in transformation matrix is always this\n",
    "            t.m[0, 2] = 0\n",
    "            t.m[1, 2] = 0\n",
    "            t.m[2, 2] = 1\n",
    "\n",
    "    def transform_point(self, x, y):\n",
    "        p = np.random.random()\n",
    "        for t in self.transforms:\n",
    "            if p <= t.probability:\n",
    "                xt = x * t.m[0, 0] + y * t.m[1, 0] + t.m[2, 0]\n",
    "                yt = x * t.m[0, 1] + y * t.m[1, 1] + t.m[2, 1]\n",
    "                return xt, yt, t.color\n",
    "        # We should never get here if the\n",
    "        # mapping probabilities all sum to 1.0\n",
    "        return 0, 0, (0,0,0)"
   ]
  },
  {
   "cell_type": "markdown",
   "metadata": {
    "id": "ohA1ZRmAGCmd"
   },
   "source": [
    "**Define a function to apply (200,000 iterations) the IFS to an initial $(0,0)$ starting point**"
   ]
  },
  {
   "cell_type": "code",
   "execution_count": null,
   "metadata": {
    "id": "1syQ3QZv1Sh1"
   },
   "outputs": [],
   "source": [
    "# Cell 4\n",
    "def calc_ifs(scr, world_rect, ifs):\n",
    "    # Array shapes are ROW x COL, so the x size is the 2nd element\n",
    "    # Also, we subtract one because array indexes start at 0\n",
    "    screen_x_max = scr.shape[1] - 1\n",
    "    screen_y_max = scr.shape[0] - 1\n",
    "\n",
    "    world_x_min = world_rect[0][0]\n",
    "    world_y_min = world_rect[0][1]\n",
    "    world_x_max = world_rect[1][0]\n",
    "    world_y_max = world_rect[1][1]\n",
    "    world_x_size = world_x_max - world_x_min\n",
    "    world_y_size = world_y_max - world_y_min\n",
    "\n",
    "    x, y = 0.0, 0.0\n",
    "\n",
    "    # Iterate 100 times, but don't draw any pixels\n",
    "    # This will give the IFS \"time\" reach its stable orbit\n",
    "    for _ in range(100):\n",
    "        x, y, clr = ifs.transform_point(x, y)\n",
    "\n",
    "    # Now draw each pixel in the stable orbit\n",
    "    for _ in range(200_000):\n",
    "        x, y, clr = ifs.transform_point(x, y)\n",
    "        sx = int(screen_x_max * (x - world_x_min) / world_x_size)\n",
    "        sy = int(screen_y_max - screen_y_max * (y - world_y_min) / world_y_size)\n",
    "        if 0 <= sx <= screen_x_max and 0 <= sy <= screen_y_max:\n",
    "            scr[sy, sx] = clr"
   ]
  },
  {
   "cell_type": "markdown",
   "metadata": {
    "id": "p2pq4GDRGdqw"
   },
   "source": [
    "**Given a `world_rect`, create and draw the [Barnsley fern](https://en.wikipedia.org/wiki/Barnsley_fern) IFS**\n"
   ]
  },
  {
   "cell_type": "code",
   "execution_count": null,
   "metadata": {
    "id": "64M-E8M5LGBs"
   },
   "outputs": [],
   "source": [
    "# Cell 5\n",
    "def draw_ifs(world_rect):\n",
    "    # RGB triplets (one tuple for each color)\n",
    "    red, green, blue = (255, 0, 0), (0, 255, 0), (0, 0, 255)\n",
    "    yellow, white = (255, 255, 0), (255, 255, 255)\n",
    "    orange, yellow = (255, 165, 0), (255, 255, 0)\n",
    "    lightblue, sienna, papayawhip = (173, 216, 230), (160, 82, 45), (255, 239, 213)\n",
    "    purple, pink = (128, 0, 128), (255, 192, 203)\n",
    "    chartreuse, maroon = (127, 255, 0), (128, 0, 0)\n",
    "\n",
    "    p = 1 / 29\n",
    "\n",
    "    ifs = IteratedFunctionSystem()\n",
    "    ifs.set_base_frame(0, 0, 17, 7)\n",
    "    ifs.add_mapping(0, 6, 2, 6, 0, 7, lightblue, p)  # 01\n",
    "    ifs.add_mapping(2, 6, 4, 6, 2, 7, blue, p)  # 02\n",
    "    ifs.add_mapping(1, 4, 1, 6, 0, 4, blue, p)  # 03\n",
    "    ifs.add_mapping(4, 6, 4, 4, 5, 6, blue, p)  # 04\n",
    "    ifs.add_mapping(0, 3, 2, 3, 0, 4, blue, p)  # 05\n",
    "    ifs.add_mapping(4, 4, 2, 4, 4, 3, red, p)  # 06\n",
    "    ifs.add_mapping(1, 1, 1, 3, 0, 1, pink, p)  # 07\n",
    "    ifs.add_mapping(4, 3, 4, 1, 5, 3, blue, p)  # 08\n",
    "    ifs.add_mapping(0, 0, 2, 0, 0, 1, blue, p)  # 09\n",
    "    ifs.add_mapping(4, 1, 2, 1, 4, 0, sienna, p)  # 10\n",
    "    ifs.add_mapping(6, 6, 7, 6, 6, 7, blue, p)  # 11\n",
    "    ifs.add_mapping(10, 6, 11, 6, 10, 7, papayawhip, p)  # 12\n",
    "    ifs.add_mapping(6, 5, 8, 5, 6, 6, chartreuse, p)  # 13\n",
    "    ifs.add_mapping(11, 4, 11, 6, 10, 4, blue, p)  # 14\n",
    "    ifs.add_mapping(7, 3, 7, 5, 6, 3, blue, p)  # 15\n",
    "    ifs.add_mapping(8, 4, 9, 4, 8, 5, blue, p)  # 16\n",
    "    ifs.add_mapping(7, 1, 7, 3, 6, 1, orange, p)  # 17\n",
    "    ifs.add_mapping(9, 2, 9, 4, 8, 2, blue, p)  # 18\n",
    "    ifs.add_mapping(10, 4, 10, 2, 11, 4, maroon, p)  # 19\n",
    "    ifs.add_mapping(6, 0, 7, 0, 6, 1, blue, p)  # 20\n",
    "    ifs.add_mapping(9, 1, 11, 1, 9, 2, blue, p)  # 21\n",
    "    ifs.add_mapping(10, 0, 11, 0, 10, 1, yellow, p)  # 22\n",
    "    ifs.add_mapping(13, 5, 13, 7, 12, 5, green, p)  # 23\n",
    "    ifs.add_mapping(12, 4, 13, 4, 12, 5, blue, p)  # 24\n",
    "    ifs.add_mapping(12, 4, 12, 2, 13, 4, blue, p)  # 25\n",
    "    ifs.add_mapping(13, 1, 13, 2, 12, 1, white, p)  # 26\n",
    "    ifs.add_mapping(12, 0, 14, 0, 12, 1, blue, p)  # 27\n",
    "    ifs.add_mapping(15, 0, 15, 1, 14, 0, blue, p)  # 28\n",
    "    ifs.add_mapping(15, 0, 17, 0, 15, 1, purple, p)  # 29\n",
    "    ifs.generate_transforms()\n",
    "\n",
    "    scr = np.zeros((500, 1200, 3), dtype=np.uint8)\n",
    "    calc_ifs(scr, world_rect, ifs)\n",
    "    plt.figure(figsize=(17, 7))\n",
    "    plt.imshow(scr, interpolation=\"nearest\", aspect=\"equal\")\n",
    "    plt.axis(\"off\")\n",
    "    plt.show()"
   ]
  },
  {
   "cell_type": "markdown",
   "metadata": {
    "id": "kGMt_HE3HARz"
   },
   "source": [
    "**Draw the BNL IFS from $(0,0)$ to $(17,7)$**"
   ]
  },
  {
   "cell_type": "code",
   "execution_count": null,
   "metadata": {
    "id": "T9DrywBi8UXW"
   },
   "outputs": [],
   "source": [
    "# Cell 6\n",
    "draw_ifs(((0, 0), (17, 7)))"
   ]
  },
  {
   "cell_type": "markdown",
   "metadata": {
    "id": "L3A7krlBHXfX"
   },
   "source": [
    "**Draw the BNL IFS from $(5.7281,4.8537)$ to $(8.8899,6.1583)$**"
   ]
  },
  {
   "cell_type": "code",
   "execution_count": null,
   "metadata": {
    "id": "KFDlG_tDjyVh"
   },
   "outputs": [],
   "source": [
    "# Cell 7\n",
    "draw_ifs(((5.7281, 4.8537), (8.8899, 6.1583)))"
   ]
  }
 ],
 "metadata": {
  "colab": {
   "provenance": []
  },
  "kernelspec": {
   "display_name": "Python 3",
   "name": "python3"
  },
  "language_info": {
   "name": "python",
   "version": "3.12.1"
  }
 },
 "nbformat": 4,
 "nbformat_minor": 0
}
